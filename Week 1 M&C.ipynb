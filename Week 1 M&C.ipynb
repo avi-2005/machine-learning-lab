{
 "cells": [
  {
   "cell_type": "code",
   "execution_count": 2,
   "id": "4f958f16",
   "metadata": {},
   "outputs": [
    {
     "data": {
      "text/html": [
       "<div>\n",
       "<style scoped>\n",
       "    .dataframe tbody tr th:only-of-type {\n",
       "        vertical-align: middle;\n",
       "    }\n",
       "\n",
       "    .dataframe tbody tr th {\n",
       "        vertical-align: top;\n",
       "    }\n",
       "\n",
       "    .dataframe thead th {\n",
       "        text-align: right;\n",
       "    }\n",
       "</style>\n",
       "<table border=\"1\" class=\"dataframe\">\n",
       "  <thead>\n",
       "    <tr style=\"text-align: right;\">\n",
       "      <th></th>\n",
       "      <th>Survived</th>\n",
       "      <th>Pclass</th>\n",
       "      <th>Name</th>\n",
       "      <th>Sex</th>\n",
       "      <th>Age</th>\n",
       "      <th>SibSp</th>\n",
       "      <th>Parch</th>\n",
       "      <th>Ticket</th>\n",
       "      <th>Fare</th>\n",
       "      <th>Cabin</th>\n",
       "      <th>Embarked</th>\n",
       "    </tr>\n",
       "    <tr>\n",
       "      <th>PassengerId</th>\n",
       "      <th></th>\n",
       "      <th></th>\n",
       "      <th></th>\n",
       "      <th></th>\n",
       "      <th></th>\n",
       "      <th></th>\n",
       "      <th></th>\n",
       "      <th></th>\n",
       "      <th></th>\n",
       "      <th></th>\n",
       "      <th></th>\n",
       "    </tr>\n",
       "  </thead>\n",
       "  <tbody>\n",
       "    <tr>\n",
       "      <th>1</th>\n",
       "      <td>0</td>\n",
       "      <td>3</td>\n",
       "      <td>Braund, Mr. Owen Harris</td>\n",
       "      <td>male</td>\n",
       "      <td>22.0</td>\n",
       "      <td>1</td>\n",
       "      <td>0</td>\n",
       "      <td>A/5 21171</td>\n",
       "      <td>7.2500</td>\n",
       "      <td>NaN</td>\n",
       "      <td>S</td>\n",
       "    </tr>\n",
       "    <tr>\n",
       "      <th>2</th>\n",
       "      <td>1</td>\n",
       "      <td>1</td>\n",
       "      <td>Cumings, Mrs. John Bradley (Florence Briggs Th...</td>\n",
       "      <td>female</td>\n",
       "      <td>38.0</td>\n",
       "      <td>1</td>\n",
       "      <td>0</td>\n",
       "      <td>PC 17599</td>\n",
       "      <td>71.2833</td>\n",
       "      <td>C85</td>\n",
       "      <td>C</td>\n",
       "    </tr>\n",
       "    <tr>\n",
       "      <th>3</th>\n",
       "      <td>1</td>\n",
       "      <td>3</td>\n",
       "      <td>Heikkinen, Miss. Laina</td>\n",
       "      <td>female</td>\n",
       "      <td>26.0</td>\n",
       "      <td>0</td>\n",
       "      <td>0</td>\n",
       "      <td>STON/O2. 3101282</td>\n",
       "      <td>7.9250</td>\n",
       "      <td>NaN</td>\n",
       "      <td>S</td>\n",
       "    </tr>\n",
       "    <tr>\n",
       "      <th>4</th>\n",
       "      <td>1</td>\n",
       "      <td>1</td>\n",
       "      <td>Futrelle, Mrs. Jacques Heath (Lily May Peel)</td>\n",
       "      <td>female</td>\n",
       "      <td>35.0</td>\n",
       "      <td>1</td>\n",
       "      <td>0</td>\n",
       "      <td>113803</td>\n",
       "      <td>53.1000</td>\n",
       "      <td>C123</td>\n",
       "      <td>S</td>\n",
       "    </tr>\n",
       "    <tr>\n",
       "      <th>5</th>\n",
       "      <td>0</td>\n",
       "      <td>3</td>\n",
       "      <td>Allen, Mr. William Henry</td>\n",
       "      <td>male</td>\n",
       "      <td>35.0</td>\n",
       "      <td>0</td>\n",
       "      <td>0</td>\n",
       "      <td>373450</td>\n",
       "      <td>8.0500</td>\n",
       "      <td>NaN</td>\n",
       "      <td>S</td>\n",
       "    </tr>\n",
       "  </tbody>\n",
       "</table>\n",
       "</div>"
      ],
      "text/plain": [
       "             Survived  Pclass  \\\n",
       "PassengerId                     \n",
       "1                   0       3   \n",
       "2                   1       1   \n",
       "3                   1       3   \n",
       "4                   1       1   \n",
       "5                   0       3   \n",
       "\n",
       "                                                          Name     Sex   Age  \\\n",
       "PassengerId                                                                    \n",
       "1                                      Braund, Mr. Owen Harris    male  22.0   \n",
       "2            Cumings, Mrs. John Bradley (Florence Briggs Th...  female  38.0   \n",
       "3                                       Heikkinen, Miss. Laina  female  26.0   \n",
       "4                 Futrelle, Mrs. Jacques Heath (Lily May Peel)  female  35.0   \n",
       "5                                     Allen, Mr. William Henry    male  35.0   \n",
       "\n",
       "             SibSp  Parch            Ticket     Fare Cabin Embarked  \n",
       "PassengerId                                                          \n",
       "1                1      0         A/5 21171   7.2500   NaN        S  \n",
       "2                1      0          PC 17599  71.2833   C85        C  \n",
       "3                0      0  STON/O2. 3101282   7.9250   NaN        S  \n",
       "4                1      0            113803  53.1000  C123        S  \n",
       "5                0      0            373450   8.0500   NaN        S  "
      ]
     },
     "execution_count": 2,
     "metadata": {},
     "output_type": "execute_result"
    }
   ],
   "source": [
    "import pandas as pd\n",
    "import matplotlib as plt\n",
    "import numpy as np\n",
    "\n",
    "df=pd.read_csv(\"D:\\FML-AVI-230957164\\Week 1 M&C\\Titanic.csv\")\n",
    "df=df.set_index(\"PassengerId\")\n",
    "df.head()"
   ]
  },
  {
   "cell_type": "code",
   "execution_count": 3,
   "id": "8d71dd44",
   "metadata": {},
   "outputs": [
    {
     "name": "stdout",
     "output_type": "stream",
     "text": [
      "Age         177\n",
      "Embarked      2\n",
      "Cabin       687\n",
      "dtype: int64\n"
     ]
    }
   ],
   "source": [
    "missing_values = df[['Age', 'Embarked', 'Cabin']].isnull().sum()\n",
    "print(missing_values)"
   ]
  },
  {
   "cell_type": "code",
   "execution_count": 4,
   "id": "fa7310e0",
   "metadata": {},
   "outputs": [
    {
     "name": "stdout",
     "output_type": "stream",
     "text": [
      "Numerical Descriptive Stats:\n",
      "          Survived      Pclass         Age       SibSp       Parch        Fare\n",
      "count  891.000000  891.000000  714.000000  891.000000  891.000000  891.000000\n",
      "mean     0.383838    2.308642   29.699118    0.523008    0.381594   32.204208\n",
      "std      0.486592    0.836071   14.526497    1.102743    0.806057   49.693429\n",
      "min      0.000000    1.000000    0.420000    0.000000    0.000000    0.000000\n",
      "25%      0.000000    2.000000   20.125000    0.000000    0.000000    7.910400\n",
      "50%      0.000000    3.000000   28.000000    0.000000    0.000000   14.454200\n",
      "75%      1.000000    3.000000   38.000000    1.000000    0.000000   31.000000\n",
      "max      1.000000    3.000000   80.000000    8.000000    6.000000  512.329200\n",
      "Categorical Descriptive Stats:\n",
      "                            Name   Sex  Ticket    Cabin Embarked\n",
      "count                       891   891     891      204      889\n",
      "unique                      891     2     681      147        3\n",
      "top     Braund, Mr. Owen Harris  male  347082  B96 B98        S\n",
      "freq                          1   577       7        4      644\n"
     ]
    }
   ],
   "source": [
    "# Descriptive statistics for numerical columns\n",
    "numerical_desc = df.describe()\n",
    "\n",
    "# Descriptive statistics for categorical columns\n",
    "categorical_desc = df.describe(include=['object'])\n",
    "\n",
    "print(\"Numerical Descriptive Stats:\\n\", numerical_desc)\n",
    "print(\"Categorical Descriptive Stats:\\n\", categorical_desc)"
   ]
  },
  {
   "cell_type": "code",
   "execution_count": 5,
   "id": "f7b49e37",
   "metadata": {},
   "outputs": [
    {
     "name": "stdout",
     "output_type": "stream",
     "text": [
      "Survival Rate: 38.38383838383838%\n"
     ]
    }
   ],
   "source": [
    "survival_rate = df['Survived'].mean() * 100\n",
    "print(f\"Survival Rate: {survival_rate}%\")"
   ]
  },
  {
   "cell_type": "code",
   "execution_count": 6,
   "id": "c4e46711",
   "metadata": {},
   "outputs": [
    {
     "name": "stdout",
     "output_type": "stream",
     "text": [
      "Male Survival Rate: 18.890814558058924%\n",
      "Female Survival Rate: 74.20382165605095%\n",
      "P-value from Chi-Squared Test: 1.1973570627755645e-58\n",
      "There is a significant relationship between gender and survival rate.\n"
     ]
    }
   ],
   "source": [
    "# Calculate survival rate for male and female passengers\n",
    "male_survival_rate = df[df['Sex'] == 'male']['Survived'].mean() * 100\n",
    "female_survival_rate = df[df['Sex'] == 'female']['Survived'].mean() * 100\n",
    "\n",
    "print(f\"Male Survival Rate: {male_survival_rate}%\")\n",
    "print(f\"Female Survival Rate: {female_survival_rate}%\")\n",
    "\n",
    "# Chi-squared test for independence (checking if gender and survival are independent)\n",
    "from scipy.stats import chi2_contingency\n",
    "\n",
    "gender_survival_table = pd.crosstab(df['Sex'], df['Survived'])\n",
    "chi2, p, dof, expected = chi2_contingency(gender_survival_table)\n",
    "\n",
    "print(f\"P-value from Chi-Squared Test: {p}\")\n",
    "if p < 0.05:\n",
    "    print(\"There is a significant relationship between gender and survival rate.\")\n",
    "else:\n",
    "    print(\"There is no significant relationship between gender and survival rate.\")"
   ]
  },
  {
   "cell_type": "code",
   "execution_count": 7,
   "id": "77976e60",
   "metadata": {},
   "outputs": [
    {
     "data": {
      "image/png": "[encoded data removed]",
      "text/plain": [
       "<Figure size 640x480 with 1 Axes>"
      ]
     },
     "metadata": {},
     "output_type": "display_data"
    },
    {
     "name": "stdout",
     "output_type": "stream",
     "text": [
      "Pclass\n",
      "1    38.233441\n",
      "2    29.877630\n",
      "3    25.140620\n",
      "Name: Age, dtype: float64\n"
     ]
    }
   ],
   "source": [
    "import seaborn as sns\n",
    "import matplotlib.pyplot as plt\n",
    "\n",
    "# Group by Pclass and calculate the average age\n",
    "age_per_class = df.groupby('Pclass')['Age'].mean()\n",
    "\n",
    "# Visualize with a boxplot\n",
    "sns.boxplot(x='Pclass', y='Age', data=df)\n",
    "plt.title('Age Distribution per Passenger Class')\n",
    "plt.show()\n",
    "\n",
    "print(age_per_class)"
   ]
  },
  {
   "cell_type": "code",
   "execution_count": 8,
   "id": "2a1bff13",
   "metadata": {},
   "outputs": [
    {
     "name": "stdout",
     "output_type": "stream",
     "text": [
      "             Survived  Pclass  \\\n",
      "PassengerId                     \n",
      "8                   0       3   \n",
      "14                  0       3   \n",
      "17                  0       3   \n",
      "25                  0       3   \n",
      "26                  1       3   \n",
      "...               ...     ...   \n",
      "851                 0       3   \n",
      "859                 1       3   \n",
      "864                 0       3   \n",
      "886                 0       3   \n",
      "889                 0       3   \n",
      "\n",
      "                                                          Name     Sex   Age  \\\n",
      "PassengerId                                                                    \n",
      "8                               Palsson, Master. Gosta Leonard    male   2.0   \n",
      "14                                 Andersson, Mr. Anders Johan    male  39.0   \n",
      "17                                        Rice, Master. Eugene    male   2.0   \n",
      "25                               Palsson, Miss. Torborg Danira  female   8.0   \n",
      "26           Asplund, Mrs. Carl Oscar (Selma Augusta Emilia...  female  38.0   \n",
      "...                                                        ...     ...   ...   \n",
      "851                    Andersson, Master. Sigvard Harald Elias    male   4.0   \n",
      "859                      Baclini, Mrs. Solomon (Latifa Qurban)  female  24.0   \n",
      "864                          Sage, Miss. Dorothy Edith \"Dolly\"  female   NaN   \n",
      "886                       Rice, Mrs. William (Margaret Norton)  female  39.0   \n",
      "889                   Johnston, Miss. Catherine Helen \"Carrie\"  female   NaN   \n",
      "\n",
      "             SibSp  Parch      Ticket     Fare Cabin Embarked  \n",
      "PassengerId                                                    \n",
      "8                3      1      349909  21.0750   NaN        S  \n",
      "14               1      5      347082  31.2750   NaN        S  \n",
      "17               4      1      382652  29.1250   NaN        Q  \n",
      "25               3      1      349909  21.0750   NaN        S  \n",
      "26               1      5      347077  31.3875   NaN        S  \n",
      "...            ...    ...         ...      ...   ...      ...  \n",
      "851              4      2      347082  31.2750   NaN        S  \n",
      "859              0      3        2666  19.2583   NaN        C  \n",
      "864              8      2    CA. 2343  69.5500   NaN        S  \n",
      "886              0      5      382652  29.1250   NaN        Q  \n",
      "889              1      2  W./C. 6607  23.4500   NaN        S  \n",
      "\n",
      "[91 rows x 11 columns]\n"
     ]
    }
   ],
   "source": [
    "family_members = df[df['SibSp'] + df['Parch'] > 2]\n",
    "print(family_members)"
   ]
  },
  {
   "cell_type": "code",
   "execution_count": 9,
   "id": "ffdae4a6",
   "metadata": {},
   "outputs": [
    {
     "name": "stdout",
     "output_type": "stream",
     "text": [
      "Chi-squared test for Pclass - P-value: 4.549251711298793e-23\n",
      "Chi-squared test for Sex - P-value: 1.1973570627755645e-58\n",
      "Chi-squared test for Embarked - P-value: 1.769922284120912e-06\n",
      "            Age     SibSp     Parch      Fare\n",
      "Age    1.000000 -0.308247 -0.189119  0.096067\n",
      "SibSp -0.308247  1.000000  0.414838  0.159651\n",
      "Parch -0.189119  0.414838  1.000000  0.216225\n",
      "Fare   0.096067  0.159651  0.216225  1.000000\n"
     ]
    }
   ],
   "source": [
    "# Chi-squared tests for categorical columns\n",
    "categorical_columns = ['Pclass', 'Sex', 'Embarked']\n",
    "for col in categorical_columns:\n",
    "    contingency_table = pd.crosstab(df[col], df['Survived'])\n",
    "    chi2, p, dof, expected = chi2_contingency(contingency_table)\n",
    "    print(f\"Chi-squared test for {col} - P-value: {p}\")\n",
    "\n",
    "# Correlation for numerical columns\n",
    "correlation_matrix = df[['Age', 'SibSp', 'Parch', 'Fare']].corr()\n",
    "print(correlation_matrix)"
   ]
  },
  {
   "cell_type": "code",
   "execution_count": 10,
   "id": "060c9876",
   "metadata": {},
   "outputs": [
    {
     "name": "stdout",
     "output_type": "stream",
     "text": [
      "Survived         0   1\n",
      "Pclass Sex            \n",
      "1      female    3  91\n",
      "       male     77  45\n",
      "2      female    6  70\n",
      "       male     91  17\n",
      "3      female   72  72\n",
      "       male    300  47\n"
     ]
    }
   ],
   "source": [
    "passenger_class_gender_survival = pd.crosstab([df['Pclass'], df['Sex']], df['Survived'])\n",
    "print(passenger_class_gender_survival)"
   ]
  },
  {
   "cell_type": "code",
   "execution_count": null,
   "id": "f32e6ea2",
   "metadata": {},
   "outputs": [],
   "source": []
  }
 ],
 "metadata": {
  "kernelspec": {
   "display_name": "Python 3 (ipykernel)",
   "language": "python",
   "name": "python3"
  },
  "language_info": {
   "codemirror_mode": {
    "name": "ipython",
    "version": 3
   },
   "file_extension": ".py",
   "mimetype": "text/x-python",
   "name": "python",
   "nbconvert_exporter": "python",
   "pygments_lexer": "ipython3",
   "version": "3.9.13"
  }
 },
 "nbformat": 4,
 "nbformat_minor": 5
}
