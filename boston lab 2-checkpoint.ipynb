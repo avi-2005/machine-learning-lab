{
 "cells": [
  {
   "cell_type": "code",
   "execution_count": 5,
   "id": "501d45c1",
   "metadata": {},
   "outputs": [
    {
     "name": "stdout",
     "output_type": "stream",
     "text": [
      "Best 3 Features: Index(['lstat', 'rm', 'ptratio'], dtype='object')\n",
      "Model Coefficients: [-0.56712588  4.93311836 -0.86709475]\n",
      "Intercept: 14.58809926157107\n",
      "Mean Squared Error: 27.114957415580577\n",
      "R-squared: 0.6302528487272827\n"
     ]
    }
   ],
   "source": [
    "import pandas as pd\n",
    "from sklearn.model_selection import train_test_split\n",
    "from sklearn.linear_model import LinearRegression\n",
    "from sklearn.metrics import mean_squared_error, r2_score\n",
    " \n",
    "# Load the dataset\n",
    "df = pd.read_csv(\"C:/Users/maths/Desktop/FML-AVI-230957164/Week 2/Boston.csv\")\n",
    "# Step 1: Select the best 5 features based on correlation with 'medv'\n",
    "best_features = df.corr()['medv'].drop('medv').abs().sort_values(ascending=False).head(5).index\n",
    " \n",
    "# Step 2: Choose top 3 features\n",
    "top_3_features = best_features[:3]\n",
    " \n",
    "# Step 3: Prepare data\n",
    "X = df[top_3_features]\n",
    "y = df['medv']\n",
    " \n",
    "# Split data (80-20)\n",
    "X_train, X_test, y_train, y_test = train_test_split(X, y, test_size=0.2, random_state=42)\n",
    " \n",
    "# Train the model\n",
    "model = LinearRegression()\n",
    "model.fit(X_train, y_train)\n",
    " \n",
    "# Predictions and evaluation\n",
    "y_pred = model.predict(X_test)\n",
    "mse = mean_squared_error(y_test, y_pred)\n",
    "r2 = r2_score(y_test, y_pred)\n",
    " \n",
    "# Results\n",
    "print(f\"Best 3 Features: {top_3_features}\")\n",
    "print(f\"Model Coefficients: {model.coef_}\")\n",
    "print(f\"Intercept: {model.intercept_}\")\n",
    "print(f\"Mean Squared Error: {mse}\")\n",
    "print(f\"R-squared: {r2}\")"
   ]
  },
  {
   "cell_type": "code",
   "execution_count": null,
   "id": "65c27a1f",
   "metadata": {},
   "outputs": [],
   "source": []
  }
 ],
 "metadata": {
  "kernelspec": {
   "display_name": "Python 3 (ipykernel)",
   "language": "python",
   "name": "python3"
  },
  "language_info": {
   "codemirror_mode": {
    "name": "ipython",
    "version": 3
   },
   "file_extension": ".py",
   "mimetype": "text/x-python",
   "name": "python",
   "nbconvert_exporter": "python",
   "pygments_lexer": "ipython3",
   "version": "3.9.13"
  }
 },
 "nbformat": 4,
 "nbformat_minor": 5
}
